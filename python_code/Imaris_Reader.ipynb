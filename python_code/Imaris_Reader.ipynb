{
 "cells": [
  {
   "cell_type": "markdown",
   "metadata": {},
   "source": [
    "## Statistics extraction from Imaris"
   ]
  },
  {
   "cell_type": "markdown",
   "metadata": {},
   "source": [
    "#### Expected data layout\n",
    "* Condition\n",
    "  * description_Statistics\n",
    "    * filename_feature.csv"
   ]
  },
  {
   "cell_type": "markdown",
   "metadata": {},
   "source": [
    "#### Load required libraries"
   ]
  },
  {
   "cell_type": "code",
   "execution_count": 1,
   "metadata": {},
   "outputs": [],
   "source": [
    "import seaborn as sns\n",
    "import pandas as pd\n",
    "import numpy as np\n",
    "import os\n",
    "import tools.tools as tls\n",
    "import imreader.imreader as imr\n",
    "import tools.globalsettings as gbs\n",
    "import csv\n",
    "logr = gbs.lgr"
   ]
  },
  {
   "cell_type": "markdown",
   "metadata": {},
   "source": [
    "#### Configure paths"
   ]
  },
  {
   "cell_type": "code",
   "execution_count": 2,
   "metadata": {},
   "outputs": [],
   "source": [
    "inpath = '/home/bcardoen/mountcedar/project/data/nabi-robert-ivan/RL.ZikaEr.001/Imaris_Export_20181126/Imaris_ER_Analysis'\n",
    "outpath = '/home/bcardoen/SFUVault/Repositories/nbr/output'"
   ]
  },
  {
   "cell_type": "markdown",
   "metadata": {},
   "source": [
    "#### Build a virtual directory tree"
   ]
  },
  {
   "cell_type": "code",
   "execution_count": 3,
   "metadata": {},
   "outputs": [
    {
     "name": "stdout",
     "output_type": "stream",
     "text": [
      "\t Have conditions: \n",
      "\t Condition ER_withdsRNA_NS4B\n",
      "\t Condition Central_ER_without_dsRNA\n",
      "\t Condition Peripheral_ER_with_dsRNA_NS4B\n",
      "\t Condition Central_ER_with_NS4B\n",
      "\t Condition Central_ER_with_dsRNA\n",
      "\t Condition ER_with_dsRNA\n",
      "\t Condition Central_ER_with_dsRNA_NS4B\n",
      "\t Condition ER_with_NS4B\n",
      "\t Condition ER_CentralER_by_boundingboxZ\n",
      "\t Condition ER_PeripheralER_by_boundingboxZ\n",
      "\t Condition Peripheral_ER_with_NS4B\n"
     ]
    }
   ],
   "source": [
    "tree = tls.treedir(inpath)\n",
    "conditions = [k for (k,v) in tree.items() if isinstance(v, dict)]\n",
    "print('\\t Have conditions: '.format(conditions))\n",
    "for c in conditions:\n",
    "    print('\\t Condition {}'.format(c))"
   ]
  },
  {
   "cell_type": "markdown",
   "metadata": {},
   "source": [
    "#### Decode the directory structure into its separate parts (cellnr, date, ...)"
   ]
  },
  {
   "cell_type": "code",
   "execution_count": 4,
   "metadata": {},
   "outputs": [
    {
     "name": "stderr",
     "output_type": "stream",
     "text": [
      "[imreader.py:59 -        parse_dirname() ] Failed decodion NS4B_Mock_KDEL_3D_Rep3_Decon_Aug312018_2_Series003_Statistics \n",
      " {'date': 'Aug312018', 'infected': False, 'cellid': 3, 'repnr': 3, 'ermarker': 'KDEL'}\n"
     ]
    },
    {
     "name": "stdout",
     "output_type": "stream",
     "text": [
      "\t Parsing condition ER_withdsRNA_NS4B\n",
      "\t Parsing condition Central_ER_without_dsRNA\n",
      "\t Parsing condition Peripheral_ER_with_dsRNA_NS4B\n",
      "\t Parsing condition Central_ER_with_NS4B\n",
      "\t Parsing condition Central_ER_with_dsRNA\n",
      "\t Parsing condition ER_with_dsRNA\n",
      "\t Parsing condition Central_ER_with_dsRNA_NS4B\n",
      "\t Parsing condition ER_with_NS4B\n",
      "\t Parsing condition ER_CentralER_by_boundingboxZ\n"
     ]
    },
    {
     "ename": "ValueError",
     "evalue": "NS4B_Mock_KDEL_3D_Rep3_Decon_Aug312018_2_Series003_Statistics failed decoding",
     "output_type": "error",
     "traceback": [
      "\u001b[0;31m---------------------------------------------------------------------------\u001b[0m",
      "\u001b[0;31mValueError\u001b[0m                                Traceback (most recent call last)",
      "\u001b[0;32m<ipython-input-4-03bc6acca9ce>\u001b[0m in \u001b[0;36m<module>\u001b[0;34m\u001b[0m\n\u001b[1;32m      5\u001b[0m         \u001b[0;32mif\u001b[0m \u001b[0misinstance\u001b[0m\u001b[0;34m(\u001b[0m\u001b[0mct\u001b[0m\u001b[0;34m,\u001b[0m \u001b[0mdict\u001b[0m\u001b[0;34m)\u001b[0m\u001b[0;34m:\u001b[0m\u001b[0;34m\u001b[0m\u001b[0;34m\u001b[0m\u001b[0m\n\u001b[1;32m      6\u001b[0m             \u001b[0;32mif\u001b[0m \u001b[0mdname\u001b[0m\u001b[0;34m.\u001b[0m\u001b[0mendswith\u001b[0m\u001b[0;34m(\u001b[0m\u001b[0;34m'Statistics'\u001b[0m\u001b[0;34m)\u001b[0m\u001b[0;34m:\u001b[0m\u001b[0;34m\u001b[0m\u001b[0;34m\u001b[0m\u001b[0m\n\u001b[0;32m----> 7\u001b[0;31m                 \u001b[0mresult\u001b[0m \u001b[0;34m=\u001b[0m \u001b[0mimr\u001b[0m\u001b[0;34m.\u001b[0m\u001b[0mparse_dirname\u001b[0m\u001b[0;34m(\u001b[0m\u001b[0mdname\u001b[0m\u001b[0;34m)\u001b[0m\u001b[0;34m\u001b[0m\u001b[0;34m\u001b[0m\u001b[0m\n\u001b[0m\u001b[1;32m      8\u001b[0m                 \u001b[0mresult\u001b[0m\u001b[0;34m[\u001b[0m\u001b[0;34m'condition'\u001b[0m\u001b[0;34m]\u001b[0m \u001b[0;34m=\u001b[0m \u001b[0mC\u001b[0m\u001b[0;34m\u001b[0m\u001b[0;34m\u001b[0m\u001b[0m\n\u001b[1;32m      9\u001b[0m                 \u001b[0mkey\u001b[0m \u001b[0;34m=\u001b[0m \u001b[0mtuple\u001b[0m\u001b[0;34m(\u001b[0m\u001b[0;34m(\u001b[0m\u001b[0mk\u001b[0m\u001b[0;34m,\u001b[0m \u001b[0mresult\u001b[0m\u001b[0;34m[\u001b[0m\u001b[0mk\u001b[0m\u001b[0;34m]\u001b[0m\u001b[0;34m)\u001b[0m \u001b[0;32mfor\u001b[0m \u001b[0mk\u001b[0m \u001b[0;32min\u001b[0m \u001b[0msorted\u001b[0m\u001b[0;34m(\u001b[0m\u001b[0mresult\u001b[0m\u001b[0;34m.\u001b[0m\u001b[0mkeys\u001b[0m\u001b[0;34m(\u001b[0m\u001b[0;34m)\u001b[0m\u001b[0;34m)\u001b[0m\u001b[0;34m)\u001b[0m\u001b[0;34m\u001b[0m\u001b[0;34m\u001b[0m\u001b[0m\n",
      "\u001b[0;32m~/SFUVault/Repositories/imaris_reader/python_code/imreader/imreader.py\u001b[0m in \u001b[0;36mparse_dirname\u001b[0;34m(fname)\u001b[0m\n\u001b[1;32m     58\u001b[0m     \u001b[0;32melse\u001b[0m\u001b[0;34m:\u001b[0m\u001b[0;34m\u001b[0m\u001b[0;34m\u001b[0m\u001b[0m\n\u001b[1;32m     59\u001b[0m         \u001b[0mlogr\u001b[0m\u001b[0;34m.\u001b[0m\u001b[0merror\u001b[0m\u001b[0;34m(\u001b[0m\u001b[0;34m'Failed decodion {} \\n {}'\u001b[0m\u001b[0;34m.\u001b[0m\u001b[0mformat\u001b[0m\u001b[0;34m(\u001b[0m\u001b[0mfname\u001b[0m\u001b[0;34m,\u001b[0m \u001b[0mres\u001b[0m\u001b[0;34m)\u001b[0m\u001b[0;34m)\u001b[0m\u001b[0;34m\u001b[0m\u001b[0;34m\u001b[0m\u001b[0m\n\u001b[0;32m---> 60\u001b[0;31m         \u001b[0;32mraise\u001b[0m \u001b[0mValueError\u001b[0m\u001b[0;34m(\u001b[0m\u001b[0;34m'{} failed decoding'\u001b[0m\u001b[0;34m.\u001b[0m\u001b[0mformat\u001b[0m\u001b[0;34m(\u001b[0m\u001b[0mfname\u001b[0m\u001b[0;34m)\u001b[0m\u001b[0;34m)\u001b[0m\u001b[0;34m\u001b[0m\u001b[0;34m\u001b[0m\u001b[0m\n\u001b[0m\u001b[1;32m     61\u001b[0m \u001b[0;34m\u001b[0m\u001b[0m\n\u001b[1;32m     62\u001b[0m \u001b[0;32mdef\u001b[0m \u001b[0m_check_feature\u001b[0m\u001b[0;34m(\u001b[0m\u001b[0mfeaturenames\u001b[0m\u001b[0;34m,\u001b[0m \u001b[0mfname\u001b[0m\u001b[0;34m)\u001b[0m\u001b[0;34m:\u001b[0m\u001b[0;34m\u001b[0m\u001b[0;34m\u001b[0m\u001b[0m\n",
      "\u001b[0;31mValueError\u001b[0m: NS4B_Mock_KDEL_3D_Rep3_Decon_Aug312018_2_Series003_Statistics failed decoding"
     ]
    }
   ],
   "source": [
    "data = {}\n",
    "for C in conditions:\n",
    "    print('\\t Parsing condition {}'.format(C))\n",
    "    for dname, ct in tree[C].items():\n",
    "        if isinstance(ct, dict):\n",
    "            if dname.endswith('Statistics'):\n",
    "                result = imr.parse_dirname(dname)\n",
    "                result['condition'] = C\n",
    "                key = tuple((k, result[k]) for k in sorted(result.keys()))\n",
    "                if key not in data:\n",
    "                    data[key] = (dname,ct)\n",
    "                else:\n",
    "                    logr.error('ERROR : {} is duplicate'.format(key))\n",
    "                    logr.error('ERROR : Old entry by fname {}'.format(data[key]))\n",
    "                    logr.error('ERROR : new entry by fname {}'.format(dname))\n",
    "                    logr.error('ERROR : Treatment = {}'.format(C))\n",
    "                    raise ValueError\n",
    "                    "
   ]
  },
  {
   "cell_type": "markdown",
   "metadata": {},
   "source": [
    "#### Load all the features for the decoded structure (e.g. read the csv files)"
   ]
  },
  {
   "cell_type": "code",
   "execution_count": 134,
   "metadata": {},
   "outputs": [
    {
     "name": "stderr",
     "output_type": "stream",
     "text": [
      "[<ipython-input-134-bb1af808c353>:14 -             <module>() ] \t A total of 147 files parsed\n"
     ]
    }
   ],
   "source": [
    "aggregated = {}\n",
    "for key, (dname,ct) in data.items():\n",
    "    condition = key[1][1]\n",
    "    fp = os.path.join(inpath, condition, dname)\n",
    "    if os.path.exists(fp):\n",
    "        contents = imr.parse_directory(fp)\n",
    "        if key in aggregated:\n",
    "            logr.error('Duplicate key')\n",
    "            raise ValueError\n",
    "        aggregated[key] = contents\n",
    "    else:\n",
    "        logr.error('No such path {}'.format(fp))\n",
    "        break\n",
    "logr.info('\\t A total of {} files parsed'.format(len(aggregated)))"
   ]
  },
  {
   "cell_type": "markdown",
   "metadata": {},
   "source": [
    "#### Write the output"
   ]
  },
  {
   "cell_type": "code",
   "execution_count": 135,
   "metadata": {},
   "outputs": [
    {
     "name": "stderr",
     "output_type": "stream",
     "text": [
      "[imreader.py:150 -            outwriter() ] \t Wrote 34 columns and 147 rows\n"
     ]
    }
   ],
   "source": [
    "imr.outwriter(aggregated, outpath, 'table.csv')"
   ]
  },
  {
   "cell_type": "code",
   "execution_count": null,
   "metadata": {},
   "outputs": [],
   "source": []
  }
 ],
 "metadata": {
  "kernelspec": {
   "display_name": "Python 3",
   "language": "python",
   "name": "python3"
  },
  "language_info": {
   "codemirror_mode": {
    "name": "ipython",
    "version": 3
   },
   "file_extension": ".py",
   "mimetype": "text/x-python",
   "name": "python",
   "nbconvert_exporter": "python",
   "pygments_lexer": "ipython3",
   "version": "3.7.1"
  }
 },
 "nbformat": 4,
 "nbformat_minor": 2
}
