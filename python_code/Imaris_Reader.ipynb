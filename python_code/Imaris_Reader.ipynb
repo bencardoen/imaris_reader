{
 "cells": [
  {
   "cell_type": "markdown",
   "metadata": {},
   "source": [
    "## Statistics extraction from Imaris"
   ]
  },
  {
   "cell_type": "markdown",
   "metadata": {},
   "source": [
    "#### Expected data layout\n",
    "* Condition\n",
    "  * description_Statistics\n",
    "    * filename_feature.csv"
   ]
  },
  {
   "cell_type": "markdown",
   "metadata": {},
   "source": [
    "#### Load required libraries"
   ]
  },
  {
   "cell_type": "code",
   "execution_count": 1,
   "metadata": {},
   "outputs": [],
   "source": [
    "import seaborn as sns\n",
    "import pandas as pd\n",
    "import numpy as np\n",
    "import os\n",
    "import tools.tools as tls\n",
    "import imreader.imreader as imr\n",
    "import tools.globalsettings as gbs\n",
    "import csv\n",
    "logr = gbs.lgr"
   ]
  },
  {
   "cell_type": "markdown",
   "metadata": {},
   "source": [
    "#### Configure paths"
   ]
  },
  {
   "cell_type": "code",
   "execution_count": 2,
   "metadata": {},
   "outputs": [],
   "source": [
    "#inpath = '/home/bcardoen/mountcedar/project/data/nabi-robert-ivan/RL.ZikaEr.001/Imaris_Export_20181126/Imaris_ER_Analysis'\n",
    "# outpath = '/home/bcardoen/SFUVault/Repositories/nbr/output'\n",
    "#inpath = '/home/bcardoen/Desktop/Rory/Imaris_ER_Analysis'\n",
    "inpath = '/home/bcardoen/Desktop/Rory/ER_with_NS2B'\n",
    "outpath = '/home/bcardoen/SFUVault/Repositories/imaris_reader/output'\n",
    "assert(os.path.exists(inpath))\n",
    "assert(os.path.exists(outpath))"
   ]
  },
  {
   "cell_type": "markdown",
   "metadata": {},
   "source": [
    "#### Build a virtual directory tree"
   ]
  },
  {
   "cell_type": "code",
   "execution_count": 3,
   "metadata": {},
   "outputs": [
    {
     "name": "stdout",
     "output_type": "stream",
     "text": [
      "\t Have conditions: \n",
      "\t Condition CER_with_dsRNA\n",
      "\t Condition PER_with_NS2B\n",
      "\t Condition PER_with_dsRNA\n",
      "\t Condition PER_without_dsRNA\n",
      "\t Condition ER_with_dsRNA\n",
      "\t Condition PER\n",
      "\t Condition CER_with_NS2B\n",
      "\t Condition CER\n",
      "\t Condition CER_without_dsRNA\n"
     ]
    }
   ],
   "source": [
    "tree = tls.treedir(inpath)\n",
    "conditions = [k for (k,v) in tree.items() if isinstance(v, dict)]\n",
    "print('\\t Have conditions: '.format(conditions))\n",
    "for c in conditions:\n",
    "    print('\\t Condition {}'.format(c))"
   ]
  },
  {
   "cell_type": "markdown",
   "metadata": {},
   "source": [
    "#### Decode the directory structure into its separate parts (cellnr, date, ...)"
   ]
  },
  {
   "cell_type": "code",
   "execution_count": 4,
   "metadata": {},
   "outputs": [
    {
     "name": "stdout",
     "output_type": "stream",
     "text": [
      "\t Parsing condition CER_with_dsRNA\n",
      "\t Parsing condition PER_with_NS2B\n",
      "\t Parsing condition PER_with_dsRNA\n",
      "\t Parsing condition PER_without_dsRNA\n",
      "\t Parsing condition ER_with_dsRNA\n",
      "\t Parsing condition PER\n",
      "\t Parsing condition CER_with_NS2B\n",
      "\t Parsing condition CER\n",
      "\t Parsing condition CER_without_dsRNA\n"
     ]
    }
   ],
   "source": [
    "data = {}\n",
    "for C in conditions:\n",
    "    print('\\t Parsing condition {}'.format(C))\n",
    "    for dname, ct in tree[C].items():\n",
    "        if isinstance(ct, dict):\n",
    "            if dname.endswith('Statistics'):\n",
    "                result = imr.parse_dirname(dname)\n",
    "                result['condition'] = C\n",
    "                key = tuple((k, result[k]) for k in sorted(result.keys()))\n",
    "                if key not in data:\n",
    "                    data[key] = (dname,ct)\n",
    "                else:\n",
    "                    logr.error('ERROR : {} is duplicate'.format(key))\n",
    "                    logr.error('ERROR : Old entry by fname {}'.format(data[key]))\n",
    "                    logr.error('ERROR : new entry by fname {}'.format(dname))\n",
    "                    logr.error('ERROR : Treatment = {}'.format(C))\n",
    "                    raise ValueError\n",
    "                    "
   ]
  },
  {
   "cell_type": "markdown",
   "metadata": {},
   "source": [
    "#### Load all the features for the decoded structure (e.g. read the csv files)"
   ]
  },
  {
   "cell_type": "code",
   "execution_count": 5,
   "metadata": {},
   "outputs": [
    {
     "name": "stderr",
     "output_type": "stream",
     "text": [
      "[<ipython-input-5-bb1af808c353>:14 -             <module>() ] \t A total of 117 files parsed\n"
     ]
    }
   ],
   "source": [
    "aggregated = {}\n",
    "for key, (dname,ct) in data.items():\n",
    "    condition = key[1][1]\n",
    "    fp = os.path.join(inpath, condition, dname)\n",
    "    if os.path.exists(fp):\n",
    "        contents = imr.parse_directory(fp)\n",
    "        if key in aggregated:\n",
    "            logr.error('Duplicate key')\n",
    "            raise ValueError\n",
    "        aggregated[key] = contents\n",
    "    else:\n",
    "        logr.error('No such path {}'.format(fp))\n",
    "        break\n",
    "logr.info('\\t A total of {} files parsed'.format(len(aggregated)))"
   ]
  },
  {
   "cell_type": "markdown",
   "metadata": {},
   "source": [
    "#### Write the output"
   ]
  },
  {
   "cell_type": "code",
   "execution_count": 6,
   "metadata": {},
   "outputs": [
    {
     "name": "stderr",
     "output_type": "stream",
     "text": [
      "[imreader.py:151 -            outwriter() ] \t Wrote 34 columns and 117 rows\n"
     ]
    }
   ],
   "source": [
    "imr.outwriter(aggregated, outpath, 'table.csv')"
   ]
  },
  {
   "cell_type": "code",
   "execution_count": null,
   "metadata": {},
   "outputs": [],
   "source": []
  }
 ],
 "metadata": {
  "@webio": {
   "lastCommId": null,
   "lastKernelId": null
  },
  "kernelspec": {
   "display_name": "Python 3",
   "language": "python",
   "name": "python3"
  },
  "language_info": {
   "codemirror_mode": {
    "name": "ipython",
    "version": 3
   },
   "file_extension": ".py",
   "mimetype": "text/x-python",
   "name": "python",
   "nbconvert_exporter": "python",
   "pygments_lexer": "ipython3",
   "version": "3.6.8"
  }
 },
 "nbformat": 4,
 "nbformat_minor": 2
}
